{
  "nbformat": 4,
  "nbformat_minor": 0,
  "metadata": {
    "colab": {
      "provenance": []
    },
    "kernelspec": {
      "name": "python3",
      "display_name": "Python 3"
    },
    "accelerator": "GPU"
  },
  "cells": [
    {
      "cell_type": "markdown",
      "metadata": {
        "id": "bFkQMhPk9cC9"
      },
      "source": [
        "### Downloading necessary dependencies"
      ]
    },
    {
      "cell_type": "code",
      "metadata": {
        "id": "adHzJIdt9MCU"
      },
      "source": [
        "!pip install wget tensorflow pandas numpy keras"
      ],
      "execution_count": null,
      "outputs": []
    },
    {
      "cell_type": "markdown",
      "metadata": {
        "id": "uQtIFiof9nQV"
      },
      "source": [
        "### Downloading CLINC150 Dataset and Glove word vector"
      ]
    },
    {
      "cell_type": "code",
      "metadata": {
        "id": "xpuB23KWtHPb",
        "outputId": "568ff6df-bf01-4a57-dfdb-94a26a30ec35",
        "colab": {
          "base_uri": "https://localhost:8080/",
          "height": 35
        }
      },
      "source": [
        "import wget\n",
        "url = 'https://raw.githubusercontent.com/clinc/oos-eval/master/data/data_full.json'\n",
        "wget.download(url)\n",
        "\n",
        "url = 'https://www.dropbox.com/s/a247ju2qsczh0be/glove.6B.100d.txt?dl=1'\n",
        "wget.download(url)"
      ],
      "execution_count": 3,
      "outputs": [
        {
          "output_type": "execute_result",
          "data": {
            "text/plain": [
              "'glove.6B.100d.txt'"
            ],
            "application/vnd.google.colaboratory.intrinsic+json": {
              "type": "string"
            }
          },
          "metadata": {},
          "execution_count": 3
        }
      ]
    },
    {
      "cell_type": "markdown",
      "metadata": {
        "id": "vcYaRgUG-OVF"
      },
      "source": [
        "### Dataset preparing"
      ]
    },
    {
      "cell_type": "code",
      "metadata": {
        "id": "gd8nYfMm-iVb"
      },
      "source": [
        "import numpy as np\n",
        "import json"
      ],
      "execution_count": 4,
      "outputs": []
    },
    {
      "cell_type": "code",
      "metadata": {
        "id": "Bd8hi3hj-aep"
      },
      "source": [
        "# Loading json data\n",
        "with open('data_full.json') as file:\n",
        "  data = json.loads(file.read())\n",
        "\n",
        "# Loading out-of-scope intent data\n",
        "val_oos = np.array(data['oos_val'])\n",
        "train_oos = np.array(data['oos_train'])\n",
        "test_oos = np.array(data['oos_test'])\n",
        "\n",
        "# Loading other intents data\n",
        "val_others = np.array(data['val'])\n",
        "train_others = np.array(data['train'])\n",
        "test_others = np.array(data['test'])\n",
        "\n",
        "# Merging out-of-scope and other intent data\n",
        "val = np.concatenate([val_oos,val_others])\n",
        "train = np.concatenate([train_oos,train_others])\n",
        "test = np.concatenate([test_oos,test_others])"
      ],
      "execution_count": 5,
      "outputs": []
    },
    {
      "cell_type": "code",
      "source": [
        "data"
      ],
      "metadata": {
        "id": "2CyJ8lUfg5WO"
      },
      "execution_count": null,
      "outputs": []
    },
    {
      "cell_type": "code",
      "source": [
        "data['train'][0]"
      ],
      "metadata": {
        "colab": {
          "base_uri": "https://localhost:8080/"
        },
        "id": "1kwbIoBBgq7j",
        "outputId": "adaeeb1d-1afb-4241-85f3-f1e7df7a1ac5"
      },
      "execution_count": 11,
      "outputs": [
        {
          "output_type": "execute_result",
          "data": {
            "text/plain": [
              "['what expression would i use to say i love you if i were an italian',\n",
              " 'translate']"
            ]
          },
          "metadata": {},
          "execution_count": 11
        }
      ]
    },
    {
      "cell_type": "code",
      "metadata": {
        "id": "7X_J8QGu-obW"
      },
      "source": [
        "data = np.concatenate([train,test,val])\n",
        "data = data.T\n",
        "\n",
        "text = data[0]\n",
        "labels = data[1]"
      ],
      "execution_count": 15,
      "outputs": []
    },
    {
      "cell_type": "code",
      "source": [
        "text[1000], labels[1000]"
      ],
      "metadata": {
        "colab": {
          "base_uri": "https://localhost:8080/"
        },
        "id": "QiZuDgJ-j5W-",
        "outputId": "baebb196-68fd-4690-afff-0bdf5da41bfc"
      },
      "execution_count": 28,
      "outputs": [
        {
          "output_type": "execute_result",
          "data": {
            "text/plain": [
              "('what steps should i take to improve my credit score', 'improve_credit_score')"
            ]
          },
          "metadata": {},
          "execution_count": 28
        }
      ]
    },
    {
      "cell_type": "markdown",
      "metadata": {
        "id": "jtNo2JgOXzGH"
      },
      "source": [
        "###Splitting the dataset"
      ]
    },
    {
      "cell_type": "code",
      "metadata": {
        "id": "BGgEkbAgTSMV"
      },
      "source": [
        "from sklearn.model_selection import train_test_split"
      ],
      "execution_count": 29,
      "outputs": []
    },
    {
      "cell_type": "code",
      "metadata": {
        "id": "T1j7zxUsTf06"
      },
      "source": [
        "train_txt,test_txt,train_label,test_labels = train_test_split(text,labels,test_size = 0.3)"
      ],
      "execution_count": 30,
      "outputs": []
    },
    {
      "cell_type": "markdown",
      "metadata": {
        "id": "AZ9lXhztn4MN"
      },
      "source": [
        "### Preprocessing split dataset"
      ]
    },
    {
      "cell_type": "code",
      "metadata": {
        "id": "EamQVXdQn78L"
      },
      "source": [
        "from tensorflow.keras.preprocessing.text import Tokenizer\n",
        "from tensorflow.keras.preprocessing.sequence import pad_sequences"
      ],
      "execution_count": 33,
      "outputs": []
    },
    {
      "cell_type": "code",
      "metadata": {
        "id": "MmWERSQo9Tuc"
      },
      "source": [
        "ls=[]\n",
        "for c in train_txt:\n",
        "    ls.append(len(c.split()))\n",
        "maxLen=int(np.percentile(ls, 98))"
      ],
      "execution_count": 34,
      "outputs": []
    },
    {
      "cell_type": "code",
      "metadata": {
        "id": "N8Ulkjtm9fho"
      },
      "source": [
        "embeddings_index={}\n",
        "with open('glove.6B.100d.txt', encoding='utf8') as f:\n",
        "    for line in f:\n",
        "        values = line.split()\n",
        "        word = values[0]\n",
        "        coefs = np.asarray(values[1:], dtype='float32')\n",
        "        embeddings_index[word] = coefs"
      ],
      "execution_count": 50,
      "outputs": []
    },
    {
      "cell_type": "code",
      "metadata": {
        "id": "YrXLsj-R9zYF",
        "outputId": "ef277e09-fe8e-4fe7-861b-15275ed91a24",
        "colab": {
          "base_uri": "https://localhost:8080/"
        }
      },
      "source": [
        "all_embs = np.stack(embeddings_index.values())\n",
        "emb_mean,emb_std = all_embs.mean(), all_embs.std()\n",
        "emb_mean,emb_std"
      ],
      "execution_count": 51,
      "outputs": [
        {
          "output_type": "stream",
          "name": "stderr",
          "text": [
            "/usr/local/lib/python3.10/dist-packages/IPython/core/interactiveshell.py:3473: FutureWarning: arrays to stack must be passed as a \"sequence\" type such as list or tuple. Support for non-sequence iterables such as generators is deprecated as of NumPy 1.16 and will raise an error in the future.\n",
            "  if (await self.run_code(code, result,  async_=asy)):\n"
          ]
        },
        {
          "output_type": "execute_result",
          "data": {
            "text/plain": [
              "(0.004451992, 0.4081574)"
            ]
          },
          "metadata": {},
          "execution_count": 51
        }
      ]
    },
    {
      "cell_type": "code",
      "metadata": {
        "id": "BDnqUWRU9wkG"
      },
      "source": [
        "max_num_words = 40000\n",
        "embedding_dim=len(embeddings_index['the'])\n",
        "classes = np.unique(labels)\n",
        "\n",
        "tokenizer = Tokenizer(num_words=max_num_words)\n",
        "tokenizer.fit_on_texts(train_txt)\n",
        "\n",
        "train_sequences = tokenizer.texts_to_sequences(train_txt)\n",
        "train_sequences = pad_sequences(train_sequences, maxlen=maxLen, padding='post')\n",
        "test_sequences = tokenizer.texts_to_sequences(test_txt)\n",
        "test_sequences = pad_sequences(test_sequences, maxlen=maxLen, padding='post')\n",
        "word_index = tokenizer.word_index"
      ],
      "execution_count": 54,
      "outputs": []
    },
    {
      "cell_type": "code",
      "source": [
        "word_index"
      ],
      "metadata": {
        "id": "u8OXN8nwpcji"
      },
      "execution_count": null,
      "outputs": []
    },
    {
      "cell_type": "code",
      "source": [
        "train_txt[0]"
      ],
      "metadata": {
        "colab": {
          "base_uri": "https://localhost:8080/",
          "height": 35
        },
        "id": "1Czmq1o_ovnU",
        "outputId": "df2d96db-1349-48b9-fbfc-f2cbe031c1f1"
      },
      "execution_count": 58,
      "outputs": [
        {
          "output_type": "execute_result",
          "data": {
            "text/plain": [
              "'how old will you be this year'"
            ],
            "application/vnd.google.colaboratory.intrinsic+json": {
              "type": "string"
            }
          },
          "metadata": {},
          "execution_count": 58
        }
      ]
    },
    {
      "cell_type": "code",
      "source": [
        "train_sequences[0]"
      ],
      "metadata": {
        "colab": {
          "base_uri": "https://localhost:8080/"
        },
        "id": "Lyi9lbH3ogsO",
        "outputId": "473fdf17-b41c-491b-d716-da8cd06645da"
      },
      "execution_count": 59,
      "outputs": [
        {
          "output_type": "execute_result",
          "data": {
            "text/plain": [
              "array([ 11, 367,  34,   5,  35,  40, 204,   0,   0,   0,   0,   0,   0,\n",
              "         0,   0,   0], dtype=int32)"
            ]
          },
          "metadata": {},
          "execution_count": 59
        }
      ]
    },
    {
      "cell_type": "code",
      "metadata": {
        "id": "yBTK9qeD919G"
      },
      "source": [
        "num_words = min(max_num_words, len(word_index) )+1\n",
        "embedding_matrix = np.random.normal(emb_mean, emb_std, (num_words, embedding_dim))\n",
        "for word, i in word_index.items():\n",
        "    if i >= max_num_words:\n",
        "        break\n",
        "    embedding_vector = embeddings_index.get(word)\n",
        "    if embedding_vector is not None:\n",
        "        embedding_matrix[i] = embedding_vector"
      ],
      "execution_count": 66,
      "outputs": []
    },
    {
      "cell_type": "code",
      "source": [
        "num_words"
      ],
      "metadata": {
        "colab": {
          "base_uri": "https://localhost:8080/"
        },
        "id": "dqYDbQftuCkA",
        "outputId": "16f0f330-8da4-483c-b340-f9815f62f4e5"
      },
      "execution_count": 82,
      "outputs": [
        {
          "output_type": "execute_result",
          "data": {
            "text/plain": [
              "6307"
            ]
          },
          "metadata": {},
          "execution_count": 82
        }
      ]
    },
    {
      "cell_type": "code",
      "source": [
        "embedding_matrix.shape"
      ],
      "metadata": {
        "colab": {
          "base_uri": "https://localhost:8080/"
        },
        "id": "a1Py0qKiqrFv",
        "outputId": "2c513c55-a505-4b9d-a700-23ae1219c570"
      },
      "execution_count": 73,
      "outputs": [
        {
          "output_type": "execute_result",
          "data": {
            "text/plain": [
              "(6307, 100)"
            ]
          },
          "metadata": {},
          "execution_count": 73
        }
      ]
    },
    {
      "cell_type": "code",
      "metadata": {
        "id": "NRWw8TwjQ_lV",
        "outputId": "252ec05d-8564-4e42-a14f-39e3626aacd0",
        "colab": {
          "base_uri": "https://localhost:8080/",
          "height": 129
        }
      },
      "source": [
        "from sklearn.preprocessing import OneHotEncoder,LabelEncoder\n",
        "\n",
        "label_encoder = LabelEncoder()\n",
        "integer_encoded = label_encoder.fit_transform(classes)\n",
        "\n",
        "onehot_encoder = OneHotEncoder(sparse=False)\n",
        "integer_encoded = integer_encoded.reshape(len(integer_encoded), 1)\n",
        "onehot_encoder.fit(integer_encoded)"
      ],
      "execution_count": 74,
      "outputs": [
        {
          "output_type": "stream",
          "name": "stderr",
          "text": [
            "/usr/local/lib/python3.10/dist-packages/sklearn/preprocessing/_encoders.py:868: FutureWarning: `sparse` was renamed to `sparse_output` in version 1.2 and will be removed in 1.4. `sparse_output` is ignored unless you leave `sparse` to its default value.\n",
            "  warnings.warn(\n"
          ]
        },
        {
          "output_type": "execute_result",
          "data": {
            "text/plain": [
              "OneHotEncoder(sparse=False, sparse_output=False)"
            ],
            "text/html": [
              "<style>#sk-container-id-1 {color: black;background-color: white;}#sk-container-id-1 pre{padding: 0;}#sk-container-id-1 div.sk-toggleable {background-color: white;}#sk-container-id-1 label.sk-toggleable__label {cursor: pointer;display: block;width: 100%;margin-bottom: 0;padding: 0.3em;box-sizing: border-box;text-align: center;}#sk-container-id-1 label.sk-toggleable__label-arrow:before {content: \"▸\";float: left;margin-right: 0.25em;color: #696969;}#sk-container-id-1 label.sk-toggleable__label-arrow:hover:before {color: black;}#sk-container-id-1 div.sk-estimator:hover label.sk-toggleable__label-arrow:before {color: black;}#sk-container-id-1 div.sk-toggleable__content {max-height: 0;max-width: 0;overflow: hidden;text-align: left;background-color: #f0f8ff;}#sk-container-id-1 div.sk-toggleable__content pre {margin: 0.2em;color: black;border-radius: 0.25em;background-color: #f0f8ff;}#sk-container-id-1 input.sk-toggleable__control:checked~div.sk-toggleable__content {max-height: 200px;max-width: 100%;overflow: auto;}#sk-container-id-1 input.sk-toggleable__control:checked~label.sk-toggleable__label-arrow:before {content: \"▾\";}#sk-container-id-1 div.sk-estimator input.sk-toggleable__control:checked~label.sk-toggleable__label {background-color: #d4ebff;}#sk-container-id-1 div.sk-label input.sk-toggleable__control:checked~label.sk-toggleable__label {background-color: #d4ebff;}#sk-container-id-1 input.sk-hidden--visually {border: 0;clip: rect(1px 1px 1px 1px);clip: rect(1px, 1px, 1px, 1px);height: 1px;margin: -1px;overflow: hidden;padding: 0;position: absolute;width: 1px;}#sk-container-id-1 div.sk-estimator {font-family: monospace;background-color: #f0f8ff;border: 1px dotted black;border-radius: 0.25em;box-sizing: border-box;margin-bottom: 0.5em;}#sk-container-id-1 div.sk-estimator:hover {background-color: #d4ebff;}#sk-container-id-1 div.sk-parallel-item::after {content: \"\";width: 100%;border-bottom: 1px solid gray;flex-grow: 1;}#sk-container-id-1 div.sk-label:hover label.sk-toggleable__label {background-color: #d4ebff;}#sk-container-id-1 div.sk-serial::before {content: \"\";position: absolute;border-left: 1px solid gray;box-sizing: border-box;top: 0;bottom: 0;left: 50%;z-index: 0;}#sk-container-id-1 div.sk-serial {display: flex;flex-direction: column;align-items: center;background-color: white;padding-right: 0.2em;padding-left: 0.2em;position: relative;}#sk-container-id-1 div.sk-item {position: relative;z-index: 1;}#sk-container-id-1 div.sk-parallel {display: flex;align-items: stretch;justify-content: center;background-color: white;position: relative;}#sk-container-id-1 div.sk-item::before, #sk-container-id-1 div.sk-parallel-item::before {content: \"\";position: absolute;border-left: 1px solid gray;box-sizing: border-box;top: 0;bottom: 0;left: 50%;z-index: -1;}#sk-container-id-1 div.sk-parallel-item {display: flex;flex-direction: column;z-index: 1;position: relative;background-color: white;}#sk-container-id-1 div.sk-parallel-item:first-child::after {align-self: flex-end;width: 50%;}#sk-container-id-1 div.sk-parallel-item:last-child::after {align-self: flex-start;width: 50%;}#sk-container-id-1 div.sk-parallel-item:only-child::after {width: 0;}#sk-container-id-1 div.sk-dashed-wrapped {border: 1px dashed gray;margin: 0 0.4em 0.5em 0.4em;box-sizing: border-box;padding-bottom: 0.4em;background-color: white;}#sk-container-id-1 div.sk-label label {font-family: monospace;font-weight: bold;display: inline-block;line-height: 1.2em;}#sk-container-id-1 div.sk-label-container {text-align: center;}#sk-container-id-1 div.sk-container {/* jupyter's `normalize.less` sets `[hidden] { display: none; }` but bootstrap.min.css set `[hidden] { display: none !important; }` so we also need the `!important` here to be able to override the default hidden behavior on the sphinx rendered scikit-learn.org. See: https://github.com/scikit-learn/scikit-learn/issues/21755 */display: inline-block !important;position: relative;}#sk-container-id-1 div.sk-text-repr-fallback {display: none;}</style><div id=\"sk-container-id-1\" class=\"sk-top-container\"><div class=\"sk-text-repr-fallback\"><pre>OneHotEncoder(sparse=False, sparse_output=False)</pre><b>In a Jupyter environment, please rerun this cell to show the HTML representation or trust the notebook. <br />On GitHub, the HTML representation is unable to render, please try loading this page with nbviewer.org.</b></div><div class=\"sk-container\" hidden><div class=\"sk-item\"><div class=\"sk-estimator sk-toggleable\"><input class=\"sk-toggleable__control sk-hidden--visually\" id=\"sk-estimator-id-1\" type=\"checkbox\" checked><label for=\"sk-estimator-id-1\" class=\"sk-toggleable__label sk-toggleable__label-arrow\">OneHotEncoder</label><div class=\"sk-toggleable__content\"><pre>OneHotEncoder(sparse=False, sparse_output=False)</pre></div></div></div></div></div>"
            ]
          },
          "metadata": {},
          "execution_count": 74
        }
      ]
    },
    {
      "cell_type": "code",
      "metadata": {
        "id": "kBSSPNw2UeNf"
      },
      "source": [
        "train_label_encoded = label_encoder.transform(train_label)\n",
        "train_label_encoded = train_label_encoded.reshape(len(train_label_encoded), 1)\n",
        "train_label = onehot_encoder.transform(train_label_encoded)"
      ],
      "execution_count": 75,
      "outputs": []
    },
    {
      "cell_type": "code",
      "metadata": {
        "id": "tfjmgTkjf2FV"
      },
      "source": [
        "test_labels_encoded = label_encoder.transform(test_labels)\n",
        "test_labels_encoded = test_labels_encoded.reshape(len(test_labels_encoded), 1)\n",
        "test_labels = onehot_encoder.transform(test_labels_encoded)"
      ],
      "execution_count": 76,
      "outputs": []
    },
    {
      "cell_type": "markdown",
      "metadata": {
        "id": "Du1qt7zNqL-s"
      },
      "source": [
        "### Model preparation"
      ]
    },
    {
      "cell_type": "code",
      "metadata": {
        "id": "CGSAh8JL93wY"
      },
      "source": [
        "from tensorflow.keras.models import Sequential\n",
        "from tensorflow.keras.layers import Dense, Input, Dropout, LSTM, Activation, Bidirectional,Embedding"
      ],
      "execution_count": 78,
      "outputs": []
    },
    {
      "cell_type": "code",
      "metadata": {
        "id": "OAAPhcLY957i",
        "outputId": "1856ed1a-327c-4f71-fa01-091ac0690ea6",
        "colab": {
          "base_uri": "https://localhost:8080/"
        }
      },
      "source": [
        "model = Sequential()\n",
        "\n",
        "model.add(Embedding(num_words, 100, trainable=False,input_length=train_sequences.shape[1], weights=[embedding_matrix]))\n",
        "model.add(Bidirectional(LSTM(256, return_sequences=True, recurrent_dropout=0.1, dropout=0.1), 'concat'))\n",
        "model.add(Dropout(0.3))\n",
        "model.add(LSTM(256, return_sequences=False, recurrent_dropout=0.1, dropout=0.1))\n",
        "model.add(Dropout(0.3))\n",
        "model.add(Dense(50, activation='relu'))\n",
        "model.add(Dropout(0.3))\n",
        "model.add(Dense(classes.shape[0], activation='softmax'))\n",
        "model.summary()"
      ],
      "execution_count": 79,
      "outputs": [
        {
          "output_type": "stream",
          "name": "stderr",
          "text": [
            "WARNING:tensorflow:Layer lstm will not use cuDNN kernels since it doesn't meet the criteria. It will use a generic GPU kernel as fallback when running on GPU.\n",
            "WARNING:tensorflow:Layer lstm will not use cuDNN kernels since it doesn't meet the criteria. It will use a generic GPU kernel as fallback when running on GPU.\n",
            "WARNING:tensorflow:Layer lstm will not use cuDNN kernels since it doesn't meet the criteria. It will use a generic GPU kernel as fallback when running on GPU.\n",
            "WARNING:tensorflow:Layer lstm_1 will not use cuDNN kernels since it doesn't meet the criteria. It will use a generic GPU kernel as fallback when running on GPU.\n"
          ]
        },
        {
          "output_type": "stream",
          "name": "stdout",
          "text": [
            "Model: \"sequential\"\n",
            "_________________________________________________________________\n",
            " Layer (type)                Output Shape              Param #   \n",
            "=================================================================\n",
            " embedding (Embedding)       (None, 16, 100)           630700    \n",
            "                                                                 \n",
            " bidirectional (Bidirectiona  (None, 16, 512)          731136    \n",
            " l)                                                              \n",
            "                                                                 \n",
            " dropout (Dropout)           (None, 16, 512)           0         \n",
            "                                                                 \n",
            " lstm_1 (LSTM)               (None, 256)               787456    \n",
            "                                                                 \n",
            " dropout_1 (Dropout)         (None, 256)               0         \n",
            "                                                                 \n",
            " dense (Dense)               (None, 50)                12850     \n",
            "                                                                 \n",
            " dropout_2 (Dropout)         (None, 50)                0         \n",
            "                                                                 \n",
            " dense_1 (Dense)             (None, 151)               7701      \n",
            "                                                                 \n",
            "=================================================================\n",
            "Total params: 2,169,843\n",
            "Trainable params: 1,539,143\n",
            "Non-trainable params: 630,700\n",
            "_________________________________________________________________\n"
          ]
        }
      ]
    },
    {
      "cell_type": "code",
      "metadata": {
        "id": "NcS8Rou3_dO_"
      },
      "source": [
        "model.compile(loss='categorical_crossentropy', optimizer='adam', metrics=['acc'])"
      ],
      "execution_count": 80,
      "outputs": []
    },
    {
      "cell_type": "code",
      "metadata": {
        "id": "P2KYcmvp_jZs",
        "outputId": "ead615aa-b2e5-4d3c-d4d6-34ec95eabbbb",
        "colab": {
          "base_uri": "https://localhost:8080/"
        }
      },
      "source": [
        "history = model.fit(train_sequences, train_label, epochs = 20,\n",
        "          batch_size = 64, shuffle=True,\n",
        "          validation_data=[test_sequences, test_labels])"
      ],
      "execution_count": 81,
      "outputs": [
        {
          "output_type": "stream",
          "name": "stdout",
          "text": [
            "Epoch 1/20\n",
            "260/260 [==============================] - 73s 224ms/step - loss: 4.5924 - acc: 0.0612 - val_loss: 3.5820 - val_acc: 0.1269\n",
            "Epoch 2/20\n",
            "260/260 [==============================] - 59s 225ms/step - loss: 3.0697 - acc: 0.2120 - val_loss: 2.0566 - val_acc: 0.4515\n",
            "Epoch 3/20\n",
            "260/260 [==============================] - 56s 217ms/step - loss: 2.0838 - acc: 0.4156 - val_loss: 1.3940 - val_acc: 0.6023\n",
            "Epoch 4/20\n",
            "260/260 [==============================] - 58s 223ms/step - loss: 1.5340 - acc: 0.5640 - val_loss: 1.0284 - val_acc: 0.7058\n",
            "Epoch 5/20\n",
            "260/260 [==============================] - 56s 217ms/step - loss: 1.2053 - acc: 0.6508 - val_loss: 0.8636 - val_acc: 0.7534\n",
            "Epoch 6/20\n",
            "260/260 [==============================] - 58s 224ms/step - loss: 0.9825 - acc: 0.7216 - val_loss: 0.7828 - val_acc: 0.7774\n",
            "Epoch 7/20\n",
            "260/260 [==============================] - 58s 222ms/step - loss: 0.8181 - acc: 0.7664 - val_loss: 0.6955 - val_acc: 0.8023\n",
            "Epoch 8/20\n",
            "260/260 [==============================] - 57s 218ms/step - loss: 0.7142 - acc: 0.7976 - val_loss: 0.6791 - val_acc: 0.8131\n",
            "Epoch 9/20\n",
            "260/260 [==============================] - 60s 232ms/step - loss: 0.6314 - acc: 0.8254 - val_loss: 0.5989 - val_acc: 0.8346\n",
            "Epoch 10/20\n",
            "260/260 [==============================] - 59s 228ms/step - loss: 0.5410 - acc: 0.8461 - val_loss: 0.6013 - val_acc: 0.8395\n",
            "Epoch 11/20\n",
            "260/260 [==============================] - 61s 236ms/step - loss: 0.4851 - acc: 0.8626 - val_loss: 0.5531 - val_acc: 0.8543\n",
            "Epoch 12/20\n",
            "260/260 [==============================] - 56s 217ms/step - loss: 0.4413 - acc: 0.8784 - val_loss: 0.5763 - val_acc: 0.8509\n",
            "Epoch 13/20\n",
            "260/260 [==============================] - 60s 231ms/step - loss: 0.3932 - acc: 0.8935 - val_loss: 0.5361 - val_acc: 0.8623\n",
            "Epoch 14/20\n",
            "260/260 [==============================] - 57s 221ms/step - loss: 0.3561 - acc: 0.9022 - val_loss: 0.5197 - val_acc: 0.8738\n",
            "Epoch 15/20\n",
            "260/260 [==============================] - 58s 223ms/step - loss: 0.3322 - acc: 0.9039 - val_loss: 0.5315 - val_acc: 0.8748\n",
            "Epoch 16/20\n",
            "260/260 [==============================] - 58s 222ms/step - loss: 0.3112 - acc: 0.9134 - val_loss: 0.5073 - val_acc: 0.8819\n",
            "Epoch 17/20\n",
            "260/260 [==============================] - 57s 221ms/step - loss: 0.2891 - acc: 0.9218 - val_loss: 0.5381 - val_acc: 0.8748\n",
            "Epoch 18/20\n",
            "260/260 [==============================] - 59s 225ms/step - loss: 0.2537 - acc: 0.9313 - val_loss: 0.5239 - val_acc: 0.8851\n",
            "Epoch 19/20\n",
            "260/260 [==============================] - 57s 218ms/step - loss: 0.2365 - acc: 0.9356 - val_loss: 0.5364 - val_acc: 0.8850\n",
            "Epoch 20/20\n",
            "260/260 [==============================] - 58s 222ms/step - loss: 0.2222 - acc: 0.9387 - val_loss: 0.5663 - val_acc: 0.8802\n"
          ]
        }
      ]
    },
    {
      "cell_type": "markdown",
      "metadata": {
        "id": "VYs3fVgMoWiT"
      },
      "source": [
        "### Metrics visualization"
      ]
    },
    {
      "cell_type": "code",
      "metadata": {
        "id": "nZmZeP0_Jsc4"
      },
      "source": [
        "import matplotlib.pyplot as plt\n",
        "%matplotlib inline"
      ],
      "execution_count": 83,
      "outputs": []
    },
    {
      "cell_type": "code",
      "metadata": {
        "id": "H8TwH3prJ65_",
        "outputId": "c63062dc-d829-49e7-a4d0-8c1ce4d1b836",
        "colab": {
          "base_uri": "https://localhost:8080/",
          "height": 472
        }
      },
      "source": [
        "plt.plot(history.history['acc'])\n",
        "plt.plot(history.history['val_acc'])\n",
        "plt.title('Model Accuracy')\n",
        "plt.ylabel('Accuracy')\n",
        "plt.xlabel('Epoch')\n",
        "plt.legend(['Train', 'Validation'], loc='upper left')\n",
        "plt.show()"
      ],
      "execution_count": 84,
      "outputs": [
        {
          "output_type": "display_data",
          "data": {
            "text/plain": [
              "<Figure size 640x480 with 1 Axes>"
            ],
            "image/png": "[encoded data removed]"
          },
          "metadata": {}
        }
      ]
    },
    {
      "cell_type": "code",
      "metadata": {
        "id": "jUFOzWUPKJAi",
        "outputId": "85f7227c-6c7c-4788-9812-3a660ce925cc",
        "colab": {
          "base_uri": "https://localhost:8080/",
          "height": 472
        }
      },
      "source": [
        "plt.plot(history.history['loss'])\n",
        "plt.plot(history.history['val_loss'])\n",
        "plt.title('Model Loss')\n",
        "plt.ylabel('Loss')\n",
        "plt.xlabel('Epoch')\n",
        "plt.legend(['Train', 'Validation'], loc='upper left')\n",
        "plt.show()"
      ],
      "execution_count": 85,
      "outputs": [
        {
          "output_type": "display_data",
          "data": {
            "text/plain": [
              "<Figure size 640x480 with 1 Axes>"
            ],
            "image/png": "[encoded data removed]"
          },
          "metadata": {}
        }
      ]
    },
    {
      "cell_type": "markdown",
      "metadata": {
        "id": "81XISPv_tcR-"
      },
      "source": [
        "### Saving Model, Tokenizer, Label Encoder and Labels"
      ]
    },
    {
      "cell_type": "code",
      "metadata": {
        "id": "RNviRqNDyDTL"
      },
      "source": [
        "import pickle\n",
        "import json"
      ],
      "execution_count": 86,
      "outputs": []
    },
    {
      "cell_type": "code",
      "metadata": {
        "id": "9zOHenVltxQ4"
      },
      "source": [
        "model.save('models/intents.h5')\n",
        "\n",
        "with open('utils/classes.pkl','wb') as file:\n",
        "   pickle.dump(classes,file)\n",
        "\n",
        "with open('utils/tokenizer.pkl','wb') as file:\n",
        "   pickle.dump(tokenizer,file)\n",
        "\n",
        "with open('utils/label_encoder.pkl','wb') as file:\n",
        "   pickle.dump(label_encoder,file)"
      ],
      "execution_count": 88,
      "outputs": []
    },
    {
      "cell_type": "markdown",
      "metadata": {
        "id": "bdYPWYe2thPq"
      },
      "source": [
        "### Predicting on real-time examples"
      ]
    },
    {
      "cell_type": "code",
      "metadata": {
        "id": "24QuaXKKTjbd"
      },
      "source": [
        "class IntentClassifier:\n",
        "    def __init__(self,classes,model,tokenizer,label_encoder):\n",
        "        self.classes = classes\n",
        "        self.classifier = model\n",
        "        self.tokenizer = tokenizer\n",
        "        self.label_encoder = label_encoder\n",
        "\n",
        "    def get_intent(self,text):\n",
        "        self.text = [text]\n",
        "        self.test_keras = self.tokenizer.texts_to_sequences(self.text)\n",
        "        self.test_keras_sequence = pad_sequences(self.test_keras, maxlen=16, padding='post')\n",
        "        self.pred = self.classifier.predict(self.test_keras_sequence)\n",
        "        return label_encoder.inverse_transform(np.argmax(self.pred,1))[0]"
      ],
      "execution_count": 89,
      "outputs": []
    },
    {
      "cell_type": "code",
      "metadata": {
        "id": "3KLG_JveUwcD",
        "colab": {
          "base_uri": "https://localhost:8080/"
        },
        "outputId": "5ec1878e-b552-41b2-d2cc-e54863db12f6"
      },
      "source": [
        "import pickle\n",
        "\n",
        "from tensorflow.keras.models import load_model\n",
        "\n",
        "model = load_model('models/intents.h5')\n",
        "\n",
        "with open('utils/classes.pkl','rb') as file:\n",
        "  classes = pickle.load(file)\n",
        "\n",
        "with open('utils/tokenizer.pkl','rb') as file:\n",
        "  tokenizer = pickle.load(file)\n",
        "\n",
        "with open('utils/label_encoder.pkl','rb') as file:\n",
        "  label_encoder = pickle.load(file)"
      ],
      "execution_count": 91,
      "outputs": [
        {
          "output_type": "stream",
          "name": "stderr",
          "text": [
            "WARNING:tensorflow:Layer lstm will not use cuDNN kernels since it doesn't meet the criteria. It will use a generic GPU kernel as fallback when running on GPU.\n",
            "WARNING:tensorflow:Layer lstm will not use cuDNN kernels since it doesn't meet the criteria. It will use a generic GPU kernel as fallback when running on GPU.\n",
            "WARNING:tensorflow:Layer lstm will not use cuDNN kernels since it doesn't meet the criteria. It will use a generic GPU kernel as fallback when running on GPU.\n",
            "WARNING:tensorflow:Layer lstm_1 will not use cuDNN kernels since it doesn't meet the criteria. It will use a generic GPU kernel as fallback when running on GPU.\n"
          ]
        }
      ]
    },
    {
      "cell_type": "code",
      "metadata": {
        "id": "GbQosr9oTzUf"
      },
      "source": [
        "nlu = IntentClassifier(classes,model,tokenizer,label_encoder)"
      ],
      "execution_count": 92,
      "outputs": []
    },
    {
      "cell_type": "code",
      "metadata": {
        "id": "QBrwahL8T3br",
        "outputId": "18037b11-9d37-44c4-ccf9-52055ea8f46f",
        "colab": {
          "base_uri": "https://localhost:8080/",
          "height": 52
        }
      },
      "source": [
        "nlu.get_intent(\"is it cold in India right now\")"
      ],
      "execution_count": 93,
      "outputs": [
        {
          "output_type": "stream",
          "name": "stdout",
          "text": [
            "1/1 [==============================] - 1s 691ms/step\n"
          ]
        },
        {
          "output_type": "execute_result",
          "data": {
            "text/plain": [
              "'weather'"
            ],
            "application/vnd.google.colaboratory.intrinsic+json": {
              "type": "string"
            }
          },
          "metadata": {},
          "execution_count": 93
        }
      ]
    },
    {
      "cell_type": "code",
      "source": [
        "nlu.get_intent(\"Hey guy\")"
      ],
      "metadata": {
        "colab": {
          "base_uri": "https://localhost:8080/",
          "height": 52
        },
        "id": "rMltHIEGxcuK",
        "outputId": "cf6a16bc-b9ba-4cff-e2bc-d55a40ade90f"
      },
      "execution_count": 102,
      "outputs": [
        {
          "output_type": "stream",
          "name": "stdout",
          "text": [
            "1/1 [==============================] - 0s 71ms/step\n"
          ]
        },
        {
          "output_type": "execute_result",
          "data": {
            "text/plain": [
              "'greeting'"
            ],
            "application/vnd.google.colaboratory.intrinsic+json": {
              "type": "string"
            }
          },
          "metadata": {},
          "execution_count": 102
        }
      ]
    },
    {
      "cell_type": "code",
      "source": [
        "classes"
      ],
      "metadata": {
        "colab": {
          "base_uri": "https://localhost:8080/"
        },
        "id": "R03zydjIxmE2",
        "outputId": "9767aad2-74e4-4ed0-d824-79eadba1021d"
      },
      "execution_count": 99,
      "outputs": [
        {
          "output_type": "execute_result",
          "data": {
            "text/plain": [
              "array(['accept_reservations', 'account_blocked', 'alarm',\n",
              "       'application_status', 'apr', 'are_you_a_bot', 'balance',\n",
              "       'bill_balance', 'bill_due', 'book_flight', 'book_hotel',\n",
              "       'calculator', 'calendar', 'calendar_update', 'calories', 'cancel',\n",
              "       'cancel_reservation', 'car_rental', 'card_declined', 'carry_on',\n",
              "       'change_accent', 'change_ai_name', 'change_language',\n",
              "       'change_speed', 'change_user_name', 'change_volume',\n",
              "       'confirm_reservation', 'cook_time', 'credit_limit',\n",
              "       'credit_limit_change', 'credit_score', 'current_location',\n",
              "       'damaged_card', 'date', 'definition', 'direct_deposit',\n",
              "       'directions', 'distance', 'do_you_have_pets', 'exchange_rate',\n",
              "       'expiration_date', 'find_phone', 'flight_status', 'flip_coin',\n",
              "       'food_last', 'freeze_account', 'fun_fact', 'gas', 'gas_type',\n",
              "       'goodbye', 'greeting', 'how_busy', 'how_old_are_you',\n",
              "       'improve_credit_score', 'income', 'ingredient_substitution',\n",
              "       'ingredients_list', 'insurance', 'insurance_change',\n",
              "       'interest_rate', 'international_fees', 'international_visa',\n",
              "       'jump_start', 'last_maintenance', 'lost_luggage', 'make_call',\n",
              "       'maybe', 'meal_suggestion', 'meaning_of_life',\n",
              "       'measurement_conversion', 'meeting_schedule', 'min_payment', 'mpg',\n",
              "       'new_card', 'next_holiday', 'next_song', 'no', 'nutrition_info',\n",
              "       'oil_change_how', 'oil_change_when', 'oos', 'order',\n",
              "       'order_checks', 'order_status', 'pay_bill', 'payday', 'pin_change',\n",
              "       'play_music', 'plug_type', 'pto_balance', 'pto_request',\n",
              "       'pto_request_status', 'pto_used', 'recipe', 'redeem_rewards',\n",
              "       'reminder', 'reminder_update', 'repeat',\n",
              "       'replacement_card_duration', 'report_fraud', 'report_lost_card',\n",
              "       'reset_settings', 'restaurant_reservation', 'restaurant_reviews',\n",
              "       'restaurant_suggestion', 'rewards_balance', 'roll_dice',\n",
              "       'rollover_401k', 'routing', 'schedule_maintenance',\n",
              "       'schedule_meeting', 'share_location', 'shopping_list',\n",
              "       'shopping_list_update', 'smart_home', 'spelling',\n",
              "       'spending_history', 'sync_device', 'taxes', 'tell_joke', 'text',\n",
              "       'thank_you', 'time', 'timer', 'timezone', 'tire_change',\n",
              "       'tire_pressure', 'todo_list', 'todo_list_update', 'traffic',\n",
              "       'transactions', 'transfer', 'translate', 'travel_alert',\n",
              "       'travel_notification', 'travel_suggestion', 'uber',\n",
              "       'update_playlist', 'user_name', 'vaccines', 'w2', 'weather',\n",
              "       'what_are_your_hobbies', 'what_can_i_ask_you', 'what_is_your_name',\n",
              "       'what_song', 'where_are_you_from', 'whisper_mode',\n",
              "       'who_do_you_work_for', 'who_made_you', 'yes'], dtype='<U136')"
            ]
          },
          "metadata": {},
          "execution_count": 99
        }
      ]
    },
    {
      "cell_type": "code",
      "source": [
        "!tar -czvf model_nlu.tar.gz /content/models"
      ],
      "metadata": {
        "colab": {
          "base_uri": "https://localhost:8080/"
        },
        "id": "DNdJgUCMxoTG",
        "outputId": "cc3c5895-7a7c-44ae-f29e-f9cd6f733c02"
      },
      "execution_count": 103,
      "outputs": [
        {
          "output_type": "stream",
          "name": "stdout",
          "text": [
            "tar: Removing leading `/' from member names\n",
            "/content/models/\n",
            "/content/models/intents.h5\n"
          ]
        }
      ]
    },
    {
      "cell_type": "code",
      "source": [
        "!tar -czvf utils_nlu.tar.gz /content/utils"
      ],
      "metadata": {
        "colab": {
          "base_uri": "https://localhost:8080/"
        },
        "id": "Z6HcH0mVyYbb",
        "outputId": "08976f62-7731-4de4-dd60-9598d4534f0f"
      },
      "execution_count": 104,
      "outputs": [
        {
          "output_type": "stream",
          "name": "stdout",
          "text": [
            "tar: Removing leading `/' from member names\n",
            "/content/utils/\n",
            "/content/utils/label_encoder.pkl\n",
            "/content/utils/classes.pkl\n",
            "/content/utils/tokenizer.pkl\n"
          ]
        }
      ]
    },
    {
      "cell_type": "code",
      "source": [],
      "metadata": {
        "id": "ov3Zxnvnyfyd"
      },
      "execution_count": null,
      "outputs": []
    }
  ]
}